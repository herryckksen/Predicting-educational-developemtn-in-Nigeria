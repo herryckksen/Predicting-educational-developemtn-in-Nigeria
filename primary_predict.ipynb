{
  "cells": [
    {
      "cell_type": "markdown",
      "metadata": {
        "id": "view-in-github",
        "colab_type": "text"
      },
      "source": [
        "<a href=\"https://colab.research.google.com/github/herryckksen/Predicting-educational-developemtn-in-Nigeria/blob/main/primary_predict.ipynb\" target=\"_parent\"><img src=\"https://colab.research.google.com/assets/colab-badge.svg\" alt=\"Open In Colab\"/></a>"
      ]
    },
    {
      "cell_type": "code",
      "execution_count": null,
      "metadata": {
        "id": "Xs0AxPk9oRK_"
      },
      "outputs": [],
      "source": [
        "import numpy as np\n",
        "import pandas as pd\n",
        "from sklearn.linear_model import LinearRegression\n",
        "import matplotlib.pyplot as plt\n",
        "from sklearn.model_selection import train_test_split\n",
        "from sklearn.metrics import mean_squared_error"
      ]
    },
    {
      "cell_type": "code",
      "execution_count": null,
      "metadata": {
        "id": "6jB5fET_oRLH"
      },
      "outputs": [],
      "source": [
        "edu_data = pd.read_csv('edu_data1.csv', index_col=0)"
      ]
    },
    {
      "cell_type": "code",
      "execution_count": null,
      "metadata": {
        "id": "OmDHYsYwoRLI",
        "outputId": "755128fa-1b3f-4486-fe7f-234116944096"
      },
      "outputs": [
        {
          "data": {
            "text/html": [
              "<div>\n",
              "<style scoped>\n",
              "    .dataframe tbody tr th:only-of-type {\n",
              "        vertical-align: middle;\n",
              "    }\n",
              "\n",
              "    .dataframe tbody tr th {\n",
              "        vertical-align: top;\n",
              "    }\n",
              "\n",
              "    .dataframe thead th {\n",
              "        text-align: right;\n",
              "    }\n",
              "</style>\n",
              "<table border=\"1\" class=\"dataframe\">\n",
              "  <thead>\n",
              "    <tr style=\"text-align: right;\">\n",
              "      <th></th>\n",
              "      <th>%Quafied_teacher</th>\n",
              "      <th>%outofschol</th>\n",
              "      <th>%NER</th>\n",
              "      <th>Health_service rate</th>\n",
              "      <th>%funding_rate</th>\n",
              "      <th>%learning enviroment rate</th>\n",
              "      <th>%literacy</th>\n",
              "      <th>%edu_development</th>\n",
              "    </tr>\n",
              "    <tr>\n",
              "      <th>year</th>\n",
              "      <th></th>\n",
              "      <th></th>\n",
              "      <th></th>\n",
              "      <th></th>\n",
              "      <th></th>\n",
              "      <th></th>\n",
              "      <th></th>\n",
              "      <th></th>\n",
              "    </tr>\n",
              "  </thead>\n",
              "  <tbody>\n",
              "    <tr>\n",
              "      <th>2005</th>\n",
              "      <td>73.98</td>\n",
              "      <td>17.23</td>\n",
              "      <td>82.34</td>\n",
              "      <td>10.230</td>\n",
              "      <td>8.40</td>\n",
              "      <td>37.32</td>\n",
              "      <td>77.10</td>\n",
              "      <td>43.800000</td>\n",
              "    </tr>\n",
              "    <tr>\n",
              "      <th>2006</th>\n",
              "      <td>75.38</td>\n",
              "      <td>15.16</td>\n",
              "      <td>84.84</td>\n",
              "      <td>10.610</td>\n",
              "      <td>10.43</td>\n",
              "      <td>40.14</td>\n",
              "      <td>76.60</td>\n",
              "      <td>44.737143</td>\n",
              "    </tr>\n",
              "    <tr>\n",
              "      <th>2007</th>\n",
              "      <td>73.38</td>\n",
              "      <td>11.02</td>\n",
              "      <td>88.98</td>\n",
              "      <td>8.795</td>\n",
              "      <td>9.75</td>\n",
              "      <td>34.51</td>\n",
              "      <td>83.12</td>\n",
              "      <td>44.222143</td>\n",
              "    </tr>\n",
              "    <tr>\n",
              "      <th>2008</th>\n",
              "      <td>79.34</td>\n",
              "      <td>4.89</td>\n",
              "      <td>95.11</td>\n",
              "      <td>15.870</td>\n",
              "      <td>10.04</td>\n",
              "      <td>43.05</td>\n",
              "      <td>89.32</td>\n",
              "      <td>48.231429</td>\n",
              "    </tr>\n",
              "    <tr>\n",
              "      <th>2009</th>\n",
              "      <td>91.96</td>\n",
              "      <td>29.53</td>\n",
              "      <td>70.47</td>\n",
              "      <td>12.350</td>\n",
              "      <td>8.79</td>\n",
              "      <td>37.57</td>\n",
              "      <td>87.17</td>\n",
              "      <td>48.262857</td>\n",
              "    </tr>\n",
              "  </tbody>\n",
              "</table>\n",
              "</div>"
            ],
            "text/plain": [
              "      %Quafied_teacher  %outofschol   %NER  Health_service rate  \\\n",
              "year                                                              \n",
              "2005             73.98        17.23  82.34               10.230   \n",
              "2006             75.38        15.16  84.84               10.610   \n",
              "2007             73.38        11.02  88.98                8.795   \n",
              "2008             79.34         4.89  95.11               15.870   \n",
              "2009             91.96        29.53  70.47               12.350   \n",
              "\n",
              "      %funding_rate  %learning enviroment rate  %literacy  %edu_development  \n",
              "year                                                                         \n",
              "2005           8.40                      37.32      77.10         43.800000  \n",
              "2006          10.43                      40.14      76.60         44.737143  \n",
              "2007           9.75                      34.51      83.12         44.222143  \n",
              "2008          10.04                      43.05      89.32         48.231429  \n",
              "2009           8.79                      37.57      87.17         48.262857  "
            ]
          },
          "execution_count": 40,
          "metadata": {},
          "output_type": "execute_result"
        }
      ],
      "source": [
        "edu_data.head()"
      ]
    },
    {
      "cell_type": "code",
      "execution_count": null,
      "metadata": {
        "id": "NkrCvZuWoRLK",
        "outputId": "2bfe7bcf-d060-4bb2-8d63-1ea47b43202b"
      },
      "outputs": [
        {
          "data": {
            "text/plain": [
              "<matplotlib.axes._subplots.AxesSubplot at 0x1c295d85668>"
            ]
          },
          "execution_count": 41,
          "metadata": {},
          "output_type": "execute_result"
        },
        {
          "data": {
            "image/png": "[encoded data removed]",
            "text/plain": [
              "<Figure size 432x288 with 1 Axes>"
            ]
          },
          "metadata": {
            "needs_background": "light"
          },
          "output_type": "display_data"
        }
      ],
      "source": [
        "edu_data[\"%edu_development\"].plot()"
      ]
    },
    {
      "cell_type": "code",
      "execution_count": null,
      "metadata": {
        "id": "jLLhfAlpoRLM",
        "outputId": "2d65be13-aaf0-44b5-dbb9-356a7452b4e0"
      },
      "outputs": [
        {
          "data": {
            "text/plain": [
              "<matplotlib.axes._subplots.AxesSubplot at 0x1c295e64f98>"
            ]
          },
          "execution_count": 42,
          "metadata": {},
          "output_type": "execute_result"
        },
        {
          "data": {
            "image/png": "[encoded data removed]",
            "text/plain": [
              "<Figure size 432x288 with 1 Axes>"
            ]
          },
          "metadata": {
            "needs_background": "light"
          },
          "output_type": "display_data"
        }
      ],
      "source": [
        "predictor=edu_data.drop([\"%edu_development\"],1)\n",
        "predictor.plot()"
      ]
    },
    {
      "cell_type": "code",
      "execution_count": null,
      "metadata": {
        "id": "-cgaiVPfoRLN"
      },
      "outputs": [],
      "source": [
        "x=np.array(edu_data.drop([\"%edu_development\"],1))"
      ]
    },
    {
      "cell_type": "code",
      "execution_count": null,
      "metadata": {
        "id": "nF3gMNinoRLO"
      },
      "outputs": [],
      "source": [
        "y=np.array(edu_data['%edu_development'])\n"
      ]
    },
    {
      "cell_type": "code",
      "execution_count": null,
      "metadata": {
        "id": "Hmj30qeRoRLP"
      },
      "outputs": [],
      "source": [
        "x_train, x_test, y_train, y_test = train_test_split(x, y, test_size=0.4)"
      ]
    },
    {
      "cell_type": "code",
      "execution_count": null,
      "metadata": {
        "id": "UJYdtp4GoRLR"
      },
      "outputs": [],
      "source": [
        "lr=LinearRegression()"
      ]
    },
    {
      "cell_type": "code",
      "execution_count": null,
      "metadata": {
        "id": "ynw2W_r4oRLS",
        "outputId": "629027b1-92fd-424b-8708-a423c891241f"
      },
      "outputs": [
        {
          "data": {
            "text/plain": [
              "LinearRegression(copy_X=True, fit_intercept=True, n_jobs=None,\n",
              "         normalize=False)"
            ]
          },
          "execution_count": 47,
          "metadata": {},
          "output_type": "execute_result"
        }
      ],
      "source": [
        "lr.fit(x_train, y_train)"
      ]
    },
    {
      "cell_type": "code",
      "execution_count": null,
      "metadata": {
        "id": "8Ey02faYoRLU",
        "outputId": "50242eb8-7981-4f78-db59-9a5131d764d9"
      },
      "outputs": [
        {
          "data": {
            "text/plain": [
              "0.8659477250437931"
            ]
          },
          "execution_count": 48,
          "metadata": {},
          "output_type": "execute_result"
        }
      ],
      "source": [
        "lr.score(x_test,y_test)"
      ]
    },
    {
      "cell_type": "code",
      "execution_count": null,
      "metadata": {
        "id": "OlbV8YzWoRLV",
        "outputId": "eb72e3c9-0f0a-450e-e4e4-8986afec9f12"
      },
      "outputs": [
        {
          "data": {
            "text/plain": [
              "37.376967556988916"
            ]
          },
          "execution_count": 49,
          "metadata": {},
          "output_type": "execute_result"
        }
      ],
      "source": [
        "lr.intercept_"
      ]
    },
    {
      "cell_type": "code",
      "execution_count": null,
      "metadata": {
        "id": "t4fKMje2oRLW",
        "outputId": "419afcfa-14c6-4b78-8eae-880a7e9eb590"
      },
      "outputs": [
        {
          "data": {
            "text/plain": [
              "array([ 0.16340431, -0.31146234, -0.27823842, -0.18117171,  0.02350297,\n",
              "        0.3062529 ,  0.16650626])"
            ]
          },
          "execution_count": 50,
          "metadata": {},
          "output_type": "execute_result"
        }
      ],
      "source": [
        "lr.coef_"
      ]
    },
    {
      "cell_type": "code",
      "execution_count": null,
      "metadata": {
        "id": "SN4ON71OoRLW"
      },
      "outputs": [],
      "source": [
        "prediction=lr.predict(x_test)"
      ]
    },
    {
      "cell_type": "code",
      "execution_count": null,
      "metadata": {
        "id": "HNRKbelfoRLX",
        "outputId": "45303738-428d-4068-c90e-d850197c26db"
      },
      "outputs": [
        {
          "data": {
            "text/plain": [
              "<matplotlib.legend.Legend at 0x1c2962abb38>"
            ]
          },
          "execution_count": 65,
          "metadata": {},
          "output_type": "execute_result"
        },
        {
          "data": {
            "image/png": "[encoded data removed]",
            "text/plain": [
              "<Figure size 432x288 with 1 Axes>"
            ]
          },
          "metadata": {
            "needs_background": "light"
          },
          "output_type": "display_data"
        }
      ],
      "source": [
        "x = np.linspace(0,2,100)\n",
        "plt.plot(y_test, label='Acutal Value')\n",
        "plt.plot(prediction, label='Predicted value')\n",
        "plt.xlabel('time')\n",
        "plt.ylabel('Percentage')\n",
        "plt.legend()\n"
      ]
    },
    {
      "cell_type": "code",
      "execution_count": null,
      "metadata": {
        "id": "Mxbw0LLboRLY"
      },
      "outputs": [],
      "source": [
        "mse=mean_squared_error(y_test,prediction)"
      ]
    },
    {
      "cell_type": "code",
      "execution_count": null,
      "metadata": {
        "id": "kCzhaYhGoRLZ"
      },
      "outputs": [],
      "source": [
        "forecasts_error = [y_test[i]-prediction[i] for i in range(len(y_test))]"
      ]
    },
    {
      "cell_type": "code",
      "execution_count": null,
      "metadata": {
        "id": "4JjuOqR9oRLZ"
      },
      "outputs": [],
      "source": [
        "bias=sum(forecasts_error)*1.0/len(y_test)"
      ]
    },
    {
      "cell_type": "code",
      "execution_count": null,
      "metadata": {
        "id": "HFgtcPTFoRLa",
        "outputId": "d5c074ec-337e-4f1e-a3d3-5e49794a0c6c"
      },
      "outputs": [
        {
          "data": {
            "text/plain": [
              "0.3875566545595273"
            ]
          },
          "execution_count": 74,
          "metadata": {},
          "output_type": "execute_result"
        }
      ],
      "source": [
        "mse\n"
      ]
    },
    {
      "cell_type": "code",
      "execution_count": null,
      "metadata": {
        "id": "chg4w64foRLb",
        "outputId": "1b8c72c2-6d26-4639-e03e-a4c6d30dbcfe"
      },
      "outputs": [
        {
          "data": {
            "text/plain": [
              "[0.2629141480504771,\n",
              " -0.7811896199247457,\n",
              " 0.8366206219674552,\n",
              " 0.6747809802128657,\n",
              " 0.5291909495197729,\n",
              " 0.45896879896350384]"
            ]
          },
          "execution_count": 75,
          "metadata": {},
          "output_type": "execute_result"
        }
      ],
      "source": [
        "forecasts_error\n"
      ]
    },
    {
      "cell_type": "code",
      "execution_count": null,
      "metadata": {
        "id": "Vmaha-N5oRLc",
        "outputId": "0d1c9436-53c0-40de-8b44-bab0cfd1de21"
      },
      "outputs": [
        {
          "data": {
            "text/plain": [
              "0.33021431313155486"
            ]
          },
          "execution_count": 76,
          "metadata": {},
          "output_type": "execute_result"
        }
      ],
      "source": [
        "\n",
        "bias"
      ]
    },
    {
      "cell_type": "code",
      "execution_count": null,
      "metadata": {
        "id": "IqWEahg-oRLd"
      },
      "outputs": [],
      "source": [
        ""
      ]
    }
  ],
  "metadata": {
    "kernelspec": {
      "display_name": "Python 3",
      "language": "python",
      "name": "python3"
    },
    "language_info": {
      "codemirror_mode": {
        "name": "ipython",
        "version": 3
      },
      "file_extension": ".py",
      "mimetype": "text/x-python",
      "name": "python",
      "nbconvert_exporter": "python",
      "pygments_lexer": "ipython3",
      "version": "3.7.3"
    },
    "colab": {
      "name": "primary_predict.ipynb",
      "provenance": [],
      "include_colab_link": true
    }
  },
  "nbformat": 4,
  "nbformat_minor": 0
}